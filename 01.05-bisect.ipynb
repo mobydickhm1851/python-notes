{
 "cells": [
  {
   "cell_type": "markdown",
   "metadata": {},
   "source": [
    "二分搜尋法\n",
    "===\n",
    "在一個有序的串列 (list) 中，我們常用二分搜尋法來找元素，其時間複雜度為 O(log n)。"
   ]
  },
  {
   "cell_type": "code",
   "execution_count": 1,
   "metadata": {},
   "outputs": [
    {
     "name": "stdout",
     "output_type": "stream",
     "text": [
      "haystack = [0, 1, 2, 3, 4, 5, 6, 7, 8, 9]\n",
      "needle = 3\n",
      "index = 3\n"
     ]
    }
   ],
   "source": [
    "def binary_search_insert(haystack, needle):\n",
    "    \n",
    "    imin, imax = 0, len(haystack)\n",
    "    \n",
    "    while True:\n",
    "        \n",
    "        if imin == imax:\n",
    "            return imin\n",
    "        \n",
    "        mid = (imin + imax) // 2\n",
    "        \n",
    "        if haystack[mid] > needle:\n",
    "            imax = mid\n",
    "        elif haystack[mid] < needle:\n",
    "            imin = mid+1\n",
    "        else:\n",
    "            return mid\n",
    "\n",
    "haystack = list(range(10))\n",
    "needle = 3\n",
    "index = binary_search_insert(haystack, needle)\n",
    "\n",
    "print('haystack =', haystack)\n",
    "print('needle =', needle)\n",
    "print('index =', index)"
   ]
  },
  {
   "cell_type": "markdown",
   "metadata": {},
   "source": [
    "另外 Python 也有提供 bisect 模組來作這件事。"
   ]
  },
  {
   "cell_type": "code",
   "execution_count": 2,
   "metadata": {},
   "outputs": [
    {
     "name": "stdout",
     "output_type": "stream",
     "text": [
      "haystack = [0, 1, 2, 3, 4, 5, 6, 7, 8, 9]\n",
      "needle = 5.2\n",
      "index = 6\n"
     ]
    }
   ],
   "source": [
    "import bisect\n",
    "\n",
    "haystack = list(range(10))\n",
    "needle = 5.2\n",
    "index = bisect.bisect_left(haystack, needle)\n",
    "\n",
    "print('haystack =', haystack)\n",
    "print('needle =', needle)\n",
    "print('index =', index)"
   ]
  },
  {
   "cell_type": "markdown",
   "metadata": {},
   "source": [
    "也可以透過 ```bisect.insort()``` 將新元素插入串列中，如下範例："
   ]
  },
  {
   "cell_type": "code",
   "execution_count": 3,
   "metadata": {},
   "outputs": [
    {
     "name": "stdout",
     "output_type": "stream",
     "text": [
      "haystack = [0, 1, 2, 3, 4, 5, 5.2, 6, 7, 8, 9]\n"
     ]
    }
   ],
   "source": [
    "import bisect\n",
    "\n",
    "haystack = list(range(10))\n",
    "needle = 5.2\n",
    "bisect.insort(haystack, needle)\n",
    "\n",
    "print('haystack =', haystack)"
   ]
  }
 ],
 "metadata": {
  "kernelspec": {
   "display_name": "Python 3",
   "language": "python",
   "name": "python3"
  },
  "language_info": {
   "codemirror_mode": {
    "name": "ipython",
    "version": 3
   },
   "file_extension": ".py",
   "mimetype": "text/x-python",
   "name": "python",
   "nbconvert_exporter": "python",
   "pygments_lexer": "ipython3",
   "version": "3.6.5"
  }
 },
 "nbformat": 4,
 "nbformat_minor": 2
}
