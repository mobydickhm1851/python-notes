{
 "cells": [
  {
   "cell_type": "markdown",
   "metadata": {},
   "source": [
    "01.02 函數\n",
    "==="
   ]
  },
  {
   "cell_type": "markdown",
   "metadata": {},
   "source": [
    "## 函數引數使用可變物件\n",
    "----\n",
    "* Parameter - A parameter is an intrinsic property of the procedure, included in its definition\n",
    "* Argument - The arguments are the values actually supplied to the procedure when it is called\n",
    "\n",
    "Python 使用 **參考** 來傳遞函數引數，即傳址，在函數內的變數僅為引數物件的標籤，因此當使用可變物件當引數時，可能會造成非使用者預期的結果，如下範例，使用者只想得到新的 list，但輸入的 list 也被改變了。"
   ]
  },
  {
   "cell_type": "code",
   "execution_count": 1,
   "metadata": {
    "scrolled": true
   },
   "outputs": [
    {
     "name": "stdout",
     "output_type": "stream",
     "text": [
      "[1, 1, 2]\n",
      "[1, 1, 2]\n"
     ]
    }
   ],
   "source": [
    "def get_outputs(inputs):\n",
    "    outputs = inputs\n",
    "    outputs.append(2)\n",
    "    return outputs\n",
    "\n",
    "inputs = [1, 1]\n",
    "outputs = get_outputs(inputs)\n",
    "\n",
    "print(inputs)\n",
    "print(outputs)"
   ]
  },
  {
   "cell_type": "markdown",
   "metadata": {},
   "source": [
    "如果不想改變可變物件引數，則要在函數內建立引數的複本，如下範例。"
   ]
  },
  {
   "cell_type": "code",
   "execution_count": 2,
   "metadata": {},
   "outputs": [
    {
     "name": "stdout",
     "output_type": "stream",
     "text": [
      "[1, 1]\n",
      "[1, 1, 2]\n"
     ]
    }
   ],
   "source": [
    "def get_outputs(inputs=None):\n",
    "    outputs = [] if inputs is None else list(inputs) ; # 淺複本，所以 inputs 內不能有可變物件的參照\n",
    "    outputs.append(2)\n",
    "    return outputs\n",
    "\n",
    "inputs = [1, 1]\n",
    "outputs = get_outputs(inputs)\n",
    "\n",
    "print(inputs)\n",
    "print(outputs)"
   ]
  },
  {
   "cell_type": "markdown",
   "metadata": {},
   "source": [
    "---\n",
    "## 避免在函數預設值使用可變物件\n",
    "---\n",
    "當函數被定義時，每一個參數預設值都會被求值 (即通常在模組被載入時)，且預設值會變成函數物件的屬性，所以如果預設值是可變物件，而且你改變它後，這項改變會影響之後每次函數呼叫，如下範例。"
   ]
  },
  {
   "cell_type": "code",
   "execution_count": 3,
   "metadata": {},
   "outputs": [
    {
     "name": "stdout",
     "output_type": "stream",
     "text": [
      "[2]\n",
      "[2, 2]\n"
     ]
    }
   ],
   "source": [
    "def get_outputs(inputs=[]):\n",
    "    outputs = inputs\n",
    "    outputs.append(2)\n",
    "    return outputs\n",
    "\n",
    "outputs = get_outputs()\n",
    "print(outputs)\n",
    "\n",
    "outputs = get_outputs()\n",
    "print(outputs)"
   ]
  }
 ],
 "metadata": {
  "kernelspec": {
   "display_name": "Python 3",
   "language": "python",
   "name": "python3"
  },
  "language_info": {
   "codemirror_mode": {
    "name": "ipython",
    "version": 3
   },
   "file_extension": ".py",
   "mimetype": "text/x-python",
   "name": "python",
   "nbconvert_exporter": "python",
   "pygments_lexer": "ipython3",
   "version": "3.6.4"
  }
 },
 "nbformat": 4,
 "nbformat_minor": 2
}
