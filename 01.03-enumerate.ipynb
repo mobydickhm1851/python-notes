{
 "cells": [
  {
   "cell_type": "markdown",
   "metadata": {},
   "source": [
    "01.03 優先選用 enumerate 而非 range\n",
    "===\n",
    "有時想要迭代一個 list，並得知目前物件的 index，就可以用 enumerate，enumerate 會產生一個惰性產生器 (lazy generator) 包裹任何迭代器 (iterator)，如下範例。"
   ]
  },
  {
   "cell_type": "code",
   "execution_count": 1,
   "metadata": {},
   "outputs": [
    {
     "name": "stdout",
     "output_type": "stream",
     "text": [
      "1: vanilla\n",
      "2: chocolate\n",
      "3: pecan\n",
      "4: strawberry\n"
     ]
    }
   ],
   "source": [
    "flavors = ['vanilla', 'chocolate', 'pecan', 'strawberry']\n",
    "\n",
    "for i, flavor in enumerate(flavors): # enumerate(flavors, 1) 則可從 1 開始計數\n",
    "    print('{0:d}: {1:s}'.format(i + 1, flavor))"
   ]
  }
 ],
 "metadata": {
  "kernelspec": {
   "display_name": "Python 3",
   "language": "python",
   "name": "python3"
  },
  "language_info": {
   "codemirror_mode": {
    "name": "ipython",
    "version": 3
   },
   "file_extension": ".py",
   "mimetype": "text/x-python",
   "name": "python",
   "nbconvert_exporter": "python",
   "pygments_lexer": "ipython3",
   "version": "3.6.4"
  }
 },
 "nbformat": 4,
 "nbformat_minor": 2
}
