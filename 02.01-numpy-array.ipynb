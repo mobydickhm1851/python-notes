{
 "cells": [
  {
   "cell_type": "markdown",
   "metadata": {},
   "source": [
    "# 02.01 numpy.array\n",
    "----"
   ]
  },
  {
   "cell_type": "markdown",
   "metadata": {},
   "source": [
    "## 函數與方法\n",
    "\n",
    "- 建立\n",
    "\n",
    "```arange``` ```array``` ```copy``` ```empty``` ```empty_like``` ```eye``` ```fromfile``` ```fromfunction``` ```identity``` ```linspace``` ```logspace``` ```mgrid``` ```ogrid``` ```ones``` ```ones_like``` ```zeros``` ```zeros_like```\n",
    "\n",
    "- 轉換\n",
    "\n",
    "```ndarray.astype``` ```atleast_1d``` ```atleast_2d``` ```atleast_3d``` ```mat```\n",
    "\n",
    "- 操作\n",
    "\n",
    "```array_split``` ```column_stack``` ```concatenate``` ```diagonal``` ```dsplit``` ```dstack``` ```hsplit``` ```hstack``` ```ndarray.item``` ```newaxis``` ```ravel``` ```repeat``` ```reshape``` ```resize``` ```squeeze``` ```swapaxes``` ```take``` ```transpose``` ```vsplit``` ```vstack```\n",
    "\n",
    "- 檢查\n",
    "\n",
    "```all``` ```any``` ```nonzero``` ```where```\n",
    "\n",
    "- 尋找\n",
    "\n",
    "```argmax``` ```argmin``` ```argsort``` ```max``` ```min``` ```ptp``` ```searchsorted``` ```sort```\n",
    "\n",
    "- 計算\n",
    "\n",
    "```choose``` ```compress``` ```cumprod``` ```cumsum``` ```inner``` ```ndarray.fill``` ```imag``` ```prod``` ```put``` ```putmask``` ```real``` ```sum```\n",
    "\n",
    "- 統計\n",
    "\n",
    "```cov``` ```mean``` ```std``` ```var```\n",
    "\n",
    "- 線性代數\n",
    "\n",
    "```cross``` ```dot``` ```outer``` ```linalg.svd``` ```vdot```"
   ]
  },
  {
   "cell_type": "markdown",
   "metadata": {},
   "source": [
    "----\n",
    "\n",
    "## ufunc\n",
    "\n",
    "ufunc 是 universal function 的縮寫，他是對 narry 的每個元素進行運算的函數。 (P.56)\n",
    "\n",
    "當 ufunc 函數對兩個不同形狀的 narray 進行計算時，會進行 **廣播 (broadcasting)** 處理。 (P.62)\n",
    "\n",
    "np.ogrid[start : end : step, s : e : t] 回傳一組可以用來廣播的 narray，np.mgrid[s : e : t,s : e : t] 是其廣播後的樣子。其中 start : end : step 與 np.arange 類似，如果想要跟 np.linspace 類似，則 step 要以 **整數+j** 表示。 (P.65)"
   ]
  },
  {
   "cell_type": "markdown",
   "metadata": {},
   "source": [
    "----\n",
    "\n",
    "## multi-index\n",
    "\n",
    "narray 的 index 應為一個長度與 narray 維度相同的 tuple，若 tuple 的長度比 narray 的維度大，則出錯，若較小，則會在 index 缺少的維度使用 **:** 代替，如果 index 不是 tuple，則 NumPy 會先試圖將他轉換為 tuple。\n",
    "\n",
    "如下 lidx 被轉換成 ([0], [1])，而 narray 的 aidx 被視為 (aidx,:,:)。 (P.69)"
   ]
  },
  {
   "cell_type": "code",
   "execution_count": 1,
   "metadata": {},
   "outputs": [
    {
     "name": "stdout",
     "output_type": "stream",
     "text": [
      "[[[ 0  1  2  3  4]\n",
      "  [ 5  6  7  8  9]\n",
      "  [10 11 12 13 14]\n",
      "  [15 16 17 18 19]]\n",
      "\n",
      " [[20 21 22 23 24]\n",
      "  [25 26 27 28 29]\n",
      "  [30 31 32 33 34]\n",
      "  [35 36 37 38 39]]\n",
      "\n",
      " [[40 41 42 43 44]\n",
      "  [45 46 47 48 49]\n",
      "  [50 51 52 53 54]\n",
      "  [55 56 57 58 59]]]\n"
     ]
    }
   ],
   "source": [
    "import numpy as np\n",
    "\n",
    "a = np.arange(3 * 4 * 5).reshape(3, 4, 5)\n",
    "print(a)"
   ]
  },
  {
   "cell_type": "code",
   "execution_count": 2,
   "metadata": {},
   "outputs": [
    {
     "name": "stdout",
     "output_type": "stream",
     "text": [
      "a[0,1] =\n",
      " [5 6 7 8 9] \n",
      "\n",
      "a[lidx] =\n",
      " [[5 6 7 8 9]] \n",
      "\n",
      "a[[0], [1], :] =\n",
      " [[5 6 7 8 9]] \n",
      "\n",
      "a[aidx] =\n",
      " [[[[ 0  1  2  3  4]\n",
      "   [ 5  6  7  8  9]\n",
      "   [10 11 12 13 14]\n",
      "   [15 16 17 18 19]]]\n",
      "\n",
      "\n",
      " [[[20 21 22 23 24]\n",
      "   [25 26 27 28 29]\n",
      "   [30 31 32 33 34]\n",
      "   [35 36 37 38 39]]]] \n",
      "\n",
      "a[[[0], [1]], :, :] =\n",
      " [[[[ 0  1  2  3  4]\n",
      "   [ 5  6  7  8  9]\n",
      "   [10 11 12 13 14]\n",
      "   [15 16 17 18 19]]]\n",
      "\n",
      "\n",
      " [[[20 21 22 23 24]\n",
      "   [25 26 27 28 29]\n",
      "   [30 31 32 33 34]\n",
      "   [35 36 37 38 39]]]]\n"
     ]
    }
   ],
   "source": [
    "import numpy as np\n",
    "\n",
    "lidx = [[0], [1]]\n",
    "aidx = np.array(lidx)\n",
    "\n",
    "print(\"a[0,1] =\\n\",  a[0,1], \"\\n\")\n",
    "print(\"a[lidx] =\\n\", a[lidx], \"\\n\")\n",
    "print(\"a[[0], [1], :] =\\n\", a[[0], [1], :], \"\\n\")\n",
    "print(\"a[aidx] =\\n\", a[aidx], \"\\n\")\n",
    "print(\"a[[[0], [1]], :, :] =\\n\", a[[[0], [1]], :, :])"
   ]
  },
  {
   "cell_type": "markdown",
   "metadata": {},
   "source": [
    "此例也可以注意到 3d narry 的 index tuple 概念依序是 [**height**, **row**, **column**]。"
   ]
  }
 ],
 "metadata": {
  "kernelspec": {
   "display_name": "Python 3",
   "language": "python",
   "name": "python3"
  },
  "language_info": {
   "codemirror_mode": {
    "name": "ipython",
    "version": 3
   },
   "file_extension": ".py",
   "mimetype": "text/x-python",
   "name": "python",
   "nbconvert_exporter": "python",
   "pygments_lexer": "ipython3",
   "version": "3.6.4"
  }
 },
 "nbformat": 4,
 "nbformat_minor": 2
}
