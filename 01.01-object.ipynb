{
 "cells": [
  {
   "cell_type": "markdown",
   "metadata": {},
   "source": [
    "# 01.01 物件的參考、可變性、複製\n",
    "----\n",
    "Python 是物件導向的程式語言，這裡提到的細節大多數的時候不影響寫程式，但卻可能是潛在 bug 的來源。"
   ]
  },
  {
   "cell_type": "markdown",
   "metadata": {},
   "source": [
    "## 變數名稱是標籤\n",
    "----\n",
    "物件像是一個箱子，箱子上刻了參考 (id) 與資料型態 (type)，兩者皆不能被改變，箱子內裝了值 (value)。當物件被建立後，指派運算子將變數當作標籤被貼到箱子上，而物件的可變與不可變代表著箱子是否密封 (值是否可修改)，因此 Python 的變數在概念上，就是 Java 的參考變數 (reference variable)。"
   ]
  },
  {
   "cell_type": "code",
   "execution_count": 1,
   "metadata": {
    "scrolled": true
   },
   "outputs": [
    {
     "name": "stdout",
     "output_type": "stream",
     "text": [
      "[1, 2, 5, 4]\n",
      "[1, 2, 5, 4]\n"
     ]
    }
   ],
   "source": [
    "a = [1, 2, 3, 4]\n",
    "b = a ; # 指派運算子貼標籤\n",
    "b[2] = 5\n",
    "print(a)\n",
    "print(b)"
   ]
  },
  {
   "cell_type": "markdown",
   "metadata": {},
   "source": [
    "## 集合是存放物件參考的箱子\n",
    "----\n",
    "集合 (tuple、list、dict、set) 同樣可視為一個箱子，箱子內存放著物件的參考，參考就像一張寫著物件 id 的紙條，而集合的可變與不可變，代表集合內的參考數量與 id 是否可變，請參考連結文章 [PYTHON OBJECTS: MUTABLE VS. IMMUTABLE](https://codehabitude.com/2013/12/24/python-objects-mutable-vs-immutable/)\n",
    "\n",
    "如下範例，tuple 不可變，所以集合內的參考數量與 id 不變，但因為 tuple\\[-1\\] 指向了一個 list，因可以改變 list 內的值。"
   ]
  },
  {
   "cell_type": "code",
   "execution_count": 2,
   "metadata": {},
   "outputs": [
    {
     "name": "stdout",
     "output_type": "stream",
     "text": [
      "2\n",
      "1028018081352 1598385632 1028018763400\n",
      "(1, [2]) \n",
      "\n",
      "2\n",
      "1028018081352 1598385632 1028018763400\n",
      "(1, [2, 3])\n"
     ]
    }
   ],
   "source": [
    "a = (1, [2])\n",
    "print(len(a))\n",
    "print(id(a), id(a[0]), id(a[1]))\n",
    "print(a, '\\n')\n",
    "\n",
    "a[-1].append(3)\n",
    "print(len(a))\n",
    "print(id(a), id(a[0]), id(a[1]))\n",
    "print(a)"
   ]
  },
  {
   "cell_type": "markdown",
   "metadata": {},
   "source": [
    "## 集合的複本\n",
    "----\n",
    "\n",
    "### 淺複本\n",
    "----\n",
    "要複製一個可變集合 (如 list)，最簡單的方式是使用建構式或是在 index 使用 \\[**:**\\] 或 Slice，產生的新集合雖然是不同的物件，但卻是 **淺複本**，即新集合內的參考與原始集合內的參考相同，因此會發生問題的情況，是在原始集合內有指向可變集合的參考。如下範例，a\\[1\\].append() 會影響其他淺複本。"
   ]
  },
  {
   "cell_type": "code",
   "execution_count": 3,
   "metadata": {},
   "outputs": [
    {
     "name": "stdout",
     "output_type": "stream",
     "text": [
      "[1, [2, 3, 7], (4, 5), 6]\n",
      "[1, [2, 3, 7], (4, 5)]\n",
      "[1, [2, 3, 7], (4, 5)]\n",
      "[1, [2, 3, 7]]\n"
     ]
    }
   ],
   "source": [
    "a = [1, [2,3], (4,5)]\n",
    "b = list(a)\n",
    "c = a[:]\n",
    "d = a[0:2]\n",
    "\n",
    "a.append(6)\n",
    "a[1].append(7)\n",
    "\n",
    "print(a)\n",
    "print(b)\n",
    "print(c)\n",
    "print(d)"
   ]
  },
  {
   "cell_type": "markdown",
   "metadata": {},
   "source": [
    "但對於不可變集合來說，tuple 使用建構式或是在 index 使用 \\[**:**\\] 不會產生複本，而是回傳同一個物件的參考，如下範例。"
   ]
  },
  {
   "cell_type": "code",
   "execution_count": 4,
   "metadata": {},
   "outputs": [
    {
     "name": "stdout",
     "output_type": "stream",
     "text": [
      "True\n",
      "True\n"
     ]
    }
   ],
   "source": [
    "t1 = (1,2,3)\n",
    "t2 = tuple(t1)\n",
    "print(t2 is t1)\n",
    "\n",
    "t3 = t1[:]\n",
    "print(t3 is t1)"
   ]
  },
  {
   "cell_type": "markdown",
   "metadata": {},
   "source": [
    "使用 tuple += tuple 時，看起來好像改變了集合，但其實是回傳了新物件，如下範例。"
   ]
  },
  {
   "cell_type": "code",
   "execution_count": 5,
   "metadata": {},
   "outputs": [
    {
     "name": "stdout",
     "output_type": "stream",
     "text": [
      "1028018360520\n",
      "[1, [2, 3], (4, 5, 6, 7)]\n",
      "1028033924216\n"
     ]
    }
   ],
   "source": [
    "a = [1, [2,3], (4,5)]\n",
    "print(id(a[2]))\n",
    "\n",
    "a[2] += (6,7)\n",
    "print(a)\n",
    "print(id(a[2]))"
   ]
  },
  {
   "cell_type": "markdown",
   "metadata": {},
   "source": [
    "字串常值在建立時，可能會產生相同的物件，如下範例。"
   ]
  },
  {
   "cell_type": "code",
   "execution_count": 6,
   "metadata": {},
   "outputs": [
    {
     "name": "stdout",
     "output_type": "stream",
     "text": [
      "True\n"
     ]
    }
   ],
   "source": [
    "s1 = 'ABC'\n",
    "s2 = 'ABC'\n",
    "print(s1 is s2)"
   ]
  },
  {
   "cell_type": "markdown",
   "metadata": {},
   "source": [
    "### 深複本\n",
    "----\n",
    "使用 copy.deepcopy() 函式製作 **深複本**，即新集合內指向可變集合的參考，與原始集合內指向可變集合的參考不同，而 copy.copy() 函式是回傳淺複本，如下範例。"
   ]
  },
  {
   "cell_type": "code",
   "execution_count": 7,
   "metadata": {},
   "outputs": [
    {
     "name": "stdout",
     "output_type": "stream",
     "text": [
      "[1, [2, 3]]\n",
      "[1, [2, 3]]\n",
      "[1, [2, 3]]\n",
      "1598385632 1028033841480\n",
      "1598385632 1028033841480\n",
      "1598385632 1028016559176\n"
     ]
    }
   ],
   "source": [
    "import copy\n",
    "\n",
    "a = [1, [2, 3]]\n",
    "b = copy.copy(a)\n",
    "c = copy.deepcopy(a)\n",
    "\n",
    "print(a)\n",
    "print(b)\n",
    "print(c)\n",
    "\n",
    "print(id(a[0]), id(a[1]))\n",
    "print(id(b[0]), id(b[1]))\n",
    "print(id(c[0]), id(c[1]))"
   ]
  },
  {
   "cell_type": "markdown",
   "metadata": {},
   "source": [
    "## 使用可變物件作函數引數\n",
    "----\n",
    "* Parameter - A parameter is an intrinsic property of the procedure, included in its definition\n",
    "* Argument - The arguments are the values actually supplied to the procedure when it is called\n",
    "\n",
    "Python 使用 **參考** 來傳遞函數引數，即傳址，在函數內的變數僅為引數物件的標籤，因此當使用可變物件當引數時，可能會造成非使用者預期的結果，如下範例，使用者只想得到新的 list，但輸入的 list 也被改變了。"
   ]
  },
  {
   "cell_type": "code",
   "execution_count": 8,
   "metadata": {},
   "outputs": [
    {
     "name": "stdout",
     "output_type": "stream",
     "text": [
      "[1, 1, 2]\n",
      "[1, 1, 2]\n"
     ]
    }
   ],
   "source": [
    "def get_outputs(inputs):\n",
    "    inputs.append(2)\n",
    "    return inputs\n",
    "\n",
    "inputs = [1, 1]\n",
    "outputs = get_outputs(inputs)\n",
    "\n",
    "print(inputs)\n",
    "print(outputs)"
   ]
  },
  {
   "cell_type": "markdown",
   "metadata": {},
   "source": [
    "如果不想改變可變物件引數，則要在函數內建立引數的複本，如下範例。"
   ]
  },
  {
   "cell_type": "code",
   "execution_count": 9,
   "metadata": {},
   "outputs": [
    {
     "name": "stdout",
     "output_type": "stream",
     "text": [
      "[1, 1]\n",
      "[1, 1, 2]\n"
     ]
    }
   ],
   "source": [
    "def get_outputs(inputs=None):\n",
    "    outputs = [] if inputs is None else list(inputs) ; # 淺複本，所以 inputs 內不能有可變物件的參照\n",
    "    outputs.append(2)\n",
    "    return outputs\n",
    "\n",
    "inputs = [1, 1]\n",
    "outputs = get_outputs(inputs)\n",
    "\n",
    "print(inputs)\n",
    "print(outputs)"
   ]
  },
  {
   "cell_type": "markdown",
   "metadata": {},
   "source": [
    "### 避免使用可變物件來當成參數預設值\n",
    "----\n",
    "當函數被定義時，每一個參數預設值都會被求值 (即通常在模組被載入時)，且預設值會變成函數物件的屬性，所以如果預設值是可變物件，而且你改變它後，這項改變會影響之後每次函數呼叫，如下範例。"
   ]
  },
  {
   "cell_type": "code",
   "execution_count": 10,
   "metadata": {},
   "outputs": [
    {
     "name": "stdout",
     "output_type": "stream",
     "text": [
      "[2]\n",
      "[2, 2]\n"
     ]
    }
   ],
   "source": [
    "def get_outputs(inputs=[]):\n",
    "    inputs.append(2)\n",
    "    return inputs\n",
    "\n",
    "outputs = get_outputs()\n",
    "print(outputs)\n",
    "\n",
    "outputs = get_outputs()\n",
    "print(outputs)"
   ]
  },
  {
   "cell_type": "markdown",
   "metadata": {},
   "source": [
    "## numpy.array 的複本\n",
    "----\n",
    "numpy.array (以下用 narray 代替) 也是一種可變集合，但參考數量不可變，並且其內的物件是存放在 data buffer，因此無法使用 id() 檢查 narray 內存的物件，如下範例。"
   ]
  },
  {
   "cell_type": "code",
   "execution_count": 11,
   "metadata": {},
   "outputs": [
    {
     "name": "stdout",
     "output_type": "stream",
     "text": [
      "1028034077520 1028034080080 1028034078400 1028034078480 \n",
      "\n",
      "1028288454752 1028288454752 1028288454752 1028288454752\n",
      "1028288454752 1028288454752\n",
      "1028288454752 1028288454752 1028288454752 1028288454752\n",
      "1028288454752 1028288454752 1028288454752 1028288454752\n"
     ]
    }
   ],
   "source": [
    "import numpy as np\n",
    "\n",
    "a = np.array([1,2,3,4])\n",
    "b = a[0:2]\n",
    "c = a.reshape(2,2)\n",
    "d = a.view()\n",
    "a[0] = 5\n",
    "\n",
    "print(id(a), id(b), id(c), id(d), '\\n')\n",
    "print(id(a[0]), id(a[1]), id(a[2]), id(a[3]))\n",
    "print(id(b[0]), id(b[1]))\n",
    "print(id(c[0,0]), id(c[0,1]), id(c[1,0]), id(c[1,1]))\n",
    "print(id(d[0]), id(d[1]), id(d[2]), id(d[3]))"
   ]
  },
  {
   "cell_type": "markdown",
   "metadata": {},
   "source": [
    "在 narray 的\n",
    "\n",
    "- index 使用 Slice\n",
    "- view()\n",
    "- reshape()\n",
    "\n",
    "會產生 **淺複本**，官方說法是對資料產生不一樣的 **視圖**，如下範例，可以用 numpy.array.base 檢查 narray 是否為其他 narray 的視圖。"
   ]
  },
  {
   "cell_type": "code",
   "execution_count": 12,
   "metadata": {},
   "outputs": [
    {
     "name": "stdout",
     "output_type": "stream",
     "text": [
      "a = [[5 2]\n",
      " [3 4]]\n",
      "b = [[5 2]]\n",
      "c = [5 2]\n",
      "d = [[5 2]\n",
      " [3 4]]\n",
      "e = [[5 2]\n",
      " [3 4]] \n",
      "\n",
      "b.base is a : True\n",
      "c.base is a : True\n",
      "d.base is a : True\n",
      "e.base is a : True\n"
     ]
    }
   ],
   "source": [
    "import numpy as np\n",
    "\n",
    "a = np.array([[1,2],[3,4]])\n",
    "b = a[0:1]\n",
    "c = a[0]\n",
    "d = a.reshape(2,2)\n",
    "e = a.view()\n",
    "\n",
    "a[0,0] = 5\n",
    "\n",
    "print('a =', a)\n",
    "print('b =', b)\n",
    "print('c =', c)\n",
    "print('d =', d)\n",
    "print('e =', e, '\\n')\n",
    "\n",
    "print('b.base is a :', b.base is a)\n",
    "print('c.base is a :', c.base is a)\n",
    "print('d.base is a :', d.base is a)\n",
    "print('e.base is a :', e.base is a)"
   ]
  },
  {
   "cell_type": "markdown",
   "metadata": {},
   "source": [
    "在 narray 的\n",
    "\n",
    "- index 使用 list\n",
    "- index 使用 tuple\n",
    "- 建構式\n",
    "- np.array.copy()\n",
    "- copy.copy()\n",
    "- copy.deepcopy()\n",
    "\n",
    "會產生 **深複本**。"
   ]
  },
  {
   "cell_type": "code",
   "execution_count": 13,
   "metadata": {},
   "outputs": [
    {
     "name": "stdout",
     "output_type": "stream",
     "text": [
      "a = [[5 2]\n",
      " [3 4]]\n",
      "b = [[1 2]\n",
      " [3 4]]\n",
      "c = 2\n",
      "d = [[1 2]\n",
      " [3 4]]\n",
      "e = [[1 2]\n",
      " [3 4]]\n",
      "f = [[1 2]\n",
      " [3 4]] \n",
      "\n",
      "b.base is a : False\n",
      "c.base is a : False\n",
      "d.base is a : False\n",
      "e.base is a : False\n",
      "f.base is a : False\n"
     ]
    }
   ],
   "source": [
    "import numpy as np\n",
    "import copy\n",
    "\n",
    "a = np.array([[1,2],[3,4]])\n",
    "b = a[[0, 1]]\n",
    "c = a[0,1]\n",
    "d = np.array(a)\n",
    "e = a.copy()\n",
    "f = copy.deepcopy(a)\n",
    "\n",
    "a[0,0] = 5\n",
    "\n",
    "print('a =', a)\n",
    "print('b =', b)\n",
    "print('c =', c)\n",
    "print('d =', d)\n",
    "print('e =', e)\n",
    "print('f =', f, '\\n')\n",
    "\n",
    "print('b.base is a :', b.base is a)\n",
    "print('c.base is a :', c.base is a)\n",
    "print('d.base is a :', d.base is a)\n",
    "print('e.base is a :', e.base is a)\n",
    "print('f.base is a :', f.base is a)"
   ]
  },
  {
   "cell_type": "markdown",
   "metadata": {},
   "source": [
    "另外，如果在 narray 的 index 填入 tuple 的維度不足，會自動被填入 **:**，被視為使用 Slice，因此會產生 **淺複本**。"
   ]
  }
 ],
 "metadata": {
  "kernelspec": {
   "display_name": "Python 3",
   "language": "python",
   "name": "python3"
  },
  "language_info": {
   "codemirror_mode": {
    "name": "ipython",
    "version": 3
   },
   "file_extension": ".py",
   "mimetype": "text/x-python",
   "name": "python",
   "nbconvert_exporter": "python",
   "pygments_lexer": "ipython3",
   "version": "3.6.4"
  }
 },
 "nbformat": 4,
 "nbformat_minor": 2
}
