{
 "cells": [
  {
   "cell_type": "code",
   "execution_count": 1,
   "metadata": {},
   "outputs": [
    {
     "name": "stdout",
     "output_type": "stream",
     "text": [
      "Optimization terminated successfully.    (Exit mode 0)\n",
      "            Current function value: 5.669359814637782\n",
      "            Iterations: 9\n",
      "            Function evaluations: 39\n",
      "            Gradient evaluations: 9\n",
      "\n",
      "-- optimal result --\n",
      "res.success = True\n",
      "res.x = [ 0.59552945 -0.40447055]\n",
      "res.fun = 5.669359814637782\n",
      "\n",
      "-- solution --\n",
      "xopt = [0.5955, -0.4045]\n",
      "fopt = 5.6694\n"
     ]
    }
   ],
   "source": [
    "import numpy as np\n",
    "import scipy.optimize\n",
    "\n",
    "# -- define optimization problem (GLODPR)\n",
    "\n",
    "def obj(x):\n",
    "    g1 = 19.0 - 14.0*x[0] + 3.0*x[0]**2 - 14.0*x[1] + 6.0*x[0]*x[1] + 3.0*x[1]**2\n",
    "    g2 = 18.0 - 32.0*x[0] + 12.0*x[0]**2 + 48.0*x[1] - 36.0*x[0]*x[1] + 27.0*x[1]**2\n",
    "    f = (1.0+((x[0]+x[1]+1.0)**2)*g1)*(30.0+((2.0*x[0]-3.0*x[1])**2)*g2)\n",
    "    f = np.log(f)\n",
    "    return f\n",
    "\n",
    "def cns(x):\n",
    "    g1 = -(3.0*x[0]) + (-3.0*x[1])**3\n",
    "    g2 = x[0] - x[1] - 1.0\n",
    "    return [-g1, -g2] # <<< scipy optimizer is positive form\n",
    "\n",
    "lb = [-2, -2]\n",
    "ub = [2, 2]\n",
    "xopt = [0.5955, -0.4045]\n",
    "fopt = 5.6694\n",
    "\n",
    "# -- optimization\n",
    "\n",
    "x0 = [1, 1]\n",
    "bounds = [(lb_i, ub_i) for lb_i, ub_i in zip(lb, ub)]\n",
    "ineq_cons = {'type':'ineq', 'fun': cns}\n",
    "method = 'SLSQP'\n",
    "options = {'disp': True}\n",
    "\n",
    "res = scipy.optimize.minimize(obj, x0, method=method, bounds=bounds, \n",
    "                              constraints=ineq_cons, options=options)\n",
    "\n",
    "# -- verification\n",
    "\n",
    "print('\\n-- optimal result --')\n",
    "print('res.success = {}'.format(res.success))\n",
    "print('res.x = {}'.format(res.x))\n",
    "print('res.fun = {}'.format(res.fun))\n",
    "\n",
    "print('\\n-- solution --')\n",
    "print('xopt = {}'.format(xopt))\n",
    "print('fopt = {}'.format(fopt))"
   ]
  }
 ],
 "metadata": {
  "kernelspec": {
   "display_name": "Python 3",
   "language": "python",
   "name": "python3"
  },
  "language_info": {
   "codemirror_mode": {
    "name": "ipython",
    "version": 3
   },
   "file_extension": ".py",
   "mimetype": "text/x-python",
   "name": "python",
   "nbconvert_exporter": "python",
   "pygments_lexer": "ipython3",
   "version": "3.6.5"
  }
 },
 "nbformat": 4,
 "nbformat_minor": 2
}
